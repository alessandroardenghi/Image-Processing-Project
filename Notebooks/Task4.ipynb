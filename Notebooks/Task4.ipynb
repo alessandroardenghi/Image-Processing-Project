{
  "nbformat": 4,
  "nbformat_minor": 0,
  "metadata": {
    "colab": {
      "provenance": []
    },
    "kernelspec": {
      "name": "python3",
      "display_name": "Python 3"
    },
    "language_info": {
      "name": "python"
    }
  },
  "cells": [
    {
      "cell_type": "markdown",
      "source": [
        "# Exercise 4\n",
        "\n"
      ],
      "metadata": {
        "id": "6QcWx_mkiXEs"
      }
    },
    {
      "cell_type": "markdown",
      "source": [
        "Below we compute the camera matrix, using the three vanishing points computed in the previous point."
      ],
      "metadata": {
        "id": "NkzuxgvD6P2I"
      }
    },
    {
      "cell_type": "code",
      "execution_count": 11,
      "metadata": {
        "id": "KSqOeACbSIa8"
      },
      "outputs": [],
      "source": [
        "import numpy as np\n",
        "\n",
        "def compute_K(v1,v2,v3):\n",
        "\n",
        "    #vanishing points constraints\n",
        "    a_1=np.array([v2[0]*v1[0],v2[0]*v1[1]+v2[1]*v1[0],v2[1]*v1[1],v2[0]*v1[2]+v2[2]*v1[0],v2[1]*v1[2]+v2[2]*v1[1],v2[2]*v1[2]])\n",
        "    a_2=np.array([v3[0]*v1[0],v3[0]*v1[1]+v3[1]*v1[0],v3[1]*v1[1],v3[0]*v1[2]+v3[2]*v1[0],v3[1]*v1[2]+v3[2]*v1[1],v3[2]*v1[2]])\n",
        "    a_3=np.array([v3[0]*v2[0],v3[0]*v2[1]+v3[1]*v2[0],v3[1]*v2[1],v3[0]*v2[2]+v3[2]*v2[0],v3[1]*v2[2]+v3[2]*v2[1],v3[2]*v2[2]])\n",
        "\n",
        "    #square pixels constraints\n",
        "    a_4=np.array([0,1,0,0,0,0])\n",
        "    a_5=np.array([1,0,-1,0,0,0])\n",
        "\n",
        "\n",
        "    #Stack the vectors vertically to create a 2D array\n",
        "    A = np.vstack((a_1,a_2,a_3,a_4,a_5))\n",
        "\n",
        "    _,_,vt = np.linalg.svd(A)\n",
        "    w_1,w_2,w_3,w_4,w_5,w_6 = vt[-1]\n",
        "\n",
        "    #w matrix\n",
        "    W = np.array([[w_1, w_2, w_4], [w_2, w_3, w_5], [w_4, w_5, w_6]])\n",
        "\n",
        "    #Cholesky Decomposition\n",
        "    K_inv = np.linalg.cholesky(W)\n",
        "\n",
        "    #Invert the matrix\n",
        "    K = np.linalg.inv(K_inv)\n",
        "\n",
        "    #Normalize K.T by the element at (3,3)\n",
        "\n",
        "    scaling_factor = K.T[2, 2]  # Element at position (3,3) in K.T\n",
        "    K_normalized = K.T / scaling_factor\n",
        "\n",
        "    # Remove elements less than 1e-12\n",
        "    K_normalized[np.abs(K_normalized) < 1e-12] = 0.0\n",
        "\n",
        "    # Round to integer\n",
        "    K_final = K_normalized.astype(int)\n",
        "\n",
        "    print(\"Camera matrix\")\n",
        "    print(K_final)"
      ]
    },
    {
      "cell_type": "code",
      "source": [
        "compute_K([1.25584579e+04, 9.85743504e+02, 1.00000000e+00],[ 4.92880107e+02, -1.84714402e+03,  1.00000000e+00],[4.34620226e+02, 1.19562754e+03, 1.00000000e+00])"
      ],
      "metadata": {
        "colab": {
          "base_uri": "https://localhost:8080/"
        },
        "id": "RPGIe93uGpM4",
        "outputId": "4fba89b3-36c4-41a5-9aab-53af69a8dbfa"
      },
      "execution_count": 12,
      "outputs": [
        {
          "output_type": "stream",
          "name": "stdout",
          "text": [
            "Camera matrix\n",
            "[[1068    0  537]\n",
            " [   0 1068  755]\n",
            " [   0    0    1]]\n"
          ]
        }
      ]
    }
  ]
}